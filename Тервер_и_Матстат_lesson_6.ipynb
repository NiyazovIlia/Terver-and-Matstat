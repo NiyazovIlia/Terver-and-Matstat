{
  "nbformat": 4,
  "nbformat_minor": 0,
  "metadata": {
    "colab": {
      "name": "Тервер и Матстат lesson 6.ipynb",
      "provenance": [],
      "collapsed_sections": [],
      "authorship_tag": "ABX9TyPp2/QKoEQE8D8KIcfu4MVn",
      "include_colab_link": true
    },
    "kernelspec": {
      "name": "python3",
      "display_name": "Python 3"
    },
    "language_info": {
      "name": "python"
    }
  },
  "cells": [
    {
      "cell_type": "markdown",
      "metadata": {
        "id": "view-in-github",
        "colab_type": "text"
      },
      "source": [
        "<a href=\"https://colab.research.google.com/github/NiyazovIlia/Terver-and-Matstat/blob/leeson-6/%D0%A2%D0%B5%D1%80%D0%B2%D0%B5%D1%80_%D0%B8_%D0%9C%D0%B0%D1%82%D1%81%D1%82%D0%B0%D1%82_lesson_6.ipynb\" target=\"_parent\"><img src=\"https://colab.research.google.com/assets/colab-badge.svg\" alt=\"Open In Colab\"/></a>"
      ]
    },
    {
      "cell_type": "markdown",
      "metadata": {
        "id": "c_XM5b5GsqYl"
      },
      "source": [
        "**Даны значения величины заработной платы заемщиков банка (zp) и значения их поведенческого кредитного скоринга (ks):\n",
        "zp = [35, 45, 190, 200, 40, 70, 54, 150, 120, 110],\n",
        "ks = [401, 574, 874, 919, 459, 739, 653, 902, 746, 832].\n",
        "Найдите ковариацию этих двух величин с помощью элементарных действий, а затем с помощью функции cov из numpy\n",
        "Полученные значения должны быть равны.\n",
        "Найдите коэффициент корреляции Пирсона с помощью ковариации и среднеквадратичных отклонений двух признаков,\n",
        "а затем с использованием функций из библиотек numpy и pandas.**"
      ]
    },
    {
      "cell_type": "code",
      "metadata": {
        "id": "PnWvftYOskLQ"
      },
      "source": [
        "import numpy as np\n",
        "import pandas as pd"
      ],
      "execution_count": 1,
      "outputs": []
    },
    {
      "cell_type": "code",
      "metadata": {
        "colab": {
          "base_uri": "https://localhost:8080/"
        },
        "id": "_2kHlOISs0JG",
        "outputId": "1d6842b5-bf19-4cb7-f014-cfc03e6ceb4b"
      },
      "source": [
        "zp = np.array([35, 45, 190, 200, 40, 70, 54, 150, 120, 110])\n",
        "ks = np.array([401, 574, 874, 919, 459, 739, 653, 902, 746, 832])\n",
        "\n",
        "kov = (zp*ks).mean() - zp.mean()*ks.mean()\n",
        "\n",
        "kov_1 = np.cov(zp,ks, ddof=1)[0,1] # несмещенная\n",
        "kov_2 = np.cov(zp,ks, ddof=0)[0,1] # смещенная\n",
        "\n",
        "df = pd.DataFrame({'zp': zp, 'ks': ks})\n",
        "df\n",
        "\n",
        "# первая это не смещенная оценка когда ddof=1, вторая смещенная когда ddof=0, третья это ковариация \n",
        "kov_1/(zp.std(ddof=1) * ks.std(ddof=1)), kov_2/(zp.std(ddof=0) * ks.std(ddof=0)), df.corr().values[0,1]"
      ],
      "execution_count": 2,
      "outputs": [
        {
          "output_type": "execute_result",
          "data": {
            "text/plain": [
              "(0.887490092073916, 0.8874900920739162, 0.8874900920739162)"
            ]
          },
          "metadata": {
            "tags": []
          },
          "execution_count": 2
        }
      ]
    },
    {
      "cell_type": "markdown",
      "metadata": {
        "id": "d8DetJh2woYG"
      },
      "source": [
        "**Измерены значения IQ выборки студентов,\n",
        "обучающихся в местных технических вузах:\n",
        "131, 125, 115, 122, 131, 115, 107, 99, 125, 111.\n",
        "Известно, что в генеральной совокупности IQ распределен нормально.\n",
        "Найдите доверительный интервал для математического ожидания с надежностью 0.95.**"
      ]
    },
    {
      "cell_type": "code",
      "metadata": {
        "colab": {
          "base_uri": "https://localhost:8080/"
        },
        "id": "c42DWXCCwqtO",
        "outputId": "29b85d8a-6b20-4fac-86bc-de05a0a25b35"
      },
      "source": [
        "# используем t так как нам не известна сигма и найти мы ее не можем, по таблице t ищем 0.025\n",
        "# то есть по табдице t мы ищем значение: альфа пополам\n",
        "# std мы берем несмещенную так как нам не известа сигма и мы не можем ее найти\n",
        "IQ = np.array([131, 125, 115, 122, 131, 115, 107, 99, 125, 111])\n",
        "X_mean = IQ.mean()\n",
        "n = len(IQ)\n",
        "t = 2.262\n",
        "std = IQ.std(ddof=1)\n",
        "\n",
        "X_mean-((t*std)/(n ** 0.5)), X_mean+((t*std)/(n ** 0.5))"
      ],
      "execution_count": 3,
      "outputs": [
        {
          "output_type": "execute_result",
          "data": {
            "text/plain": [
              "(110.55660776308164, 125.64339223691834)"
            ]
          },
          "metadata": {
            "tags": []
          },
          "execution_count": 3
        }
      ]
    },
    {
      "cell_type": "markdown",
      "metadata": {
        "id": "czejstF5y_W9"
      },
      "source": [
        "**Известно, что рост футболистов в сборной распределен нормально\n",
        "с дисперсией генеральной совокупности, равной 25 кв.см. Объем выборки равен 27,\n",
        "среднее выборочное составляет 174.2. Найдите доверительный интервал для математического ожидания с надежностью 0.95.**"
      ]
    },
    {
      "cell_type": "code",
      "metadata": {
        "colab": {
          "base_uri": "https://localhost:8080/"
        },
        "id": "UBGPWiywzALu",
        "outputId": "a794dcc1-2c8d-4ace-fb11-0a96cca5f85c"
      },
      "source": [
        "# используем z так как нам известна дисперсия а из нее мы можем найти сигму, по таблице z ищем для 0.975\n",
        "# то есть по таблице z мы ищем значение: надежность+(альфа пополам)\n",
        "n = 27\n",
        "std = 5\n",
        "D = 25\n",
        "X_mean = 174.2\n",
        "z = 1.96\n",
        "\n",
        "X_mean-((z*std)/(n ** 0.5)), X_mean+((z*std)/(n ** 0.5))"
      ],
      "execution_count": 4,
      "outputs": [
        {
          "output_type": "execute_result",
          "data": {
            "text/plain": [
              "(172.31398912064722, 176.08601087935276)"
            ]
          },
          "metadata": {
            "tags": []
          },
          "execution_count": 4
        }
      ]
    }
  ]
}