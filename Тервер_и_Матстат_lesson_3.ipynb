{
  "nbformat": 4,
  "nbformat_minor": 0,
  "metadata": {
    "colab": {
      "name": "Тервер и Матстат lesson 3.ipynb",
      "provenance": [],
      "authorship_tag": "ABX9TyPYHs6jLEfc9i3tmpWBvAnZ",
      "include_colab_link": true
    },
    "kernelspec": {
      "name": "python3",
      "display_name": "Python 3"
    },
    "language_info": {
      "name": "python"
    }
  },
  "cells": [
    {
      "cell_type": "markdown",
      "metadata": {
        "id": "view-in-github",
        "colab_type": "text"
      },
      "source": [
        "<a href=\"https://colab.research.google.com/github/NiyazovIlia/Terver-and-Matstat/blob/lesson-3/%D0%A2%D0%B5%D1%80%D0%B2%D0%B5%D1%80_%D0%B8_%D0%9C%D0%B0%D1%82%D1%81%D1%82%D0%B0%D1%82_lesson_3.ipynb\" target=\"_parent\"><img src=\"https://colab.research.google.com/assets/colab-badge.svg\" alt=\"Open In Colab\"/></a>"
      ]
    },
    {
      "cell_type": "code",
      "metadata": {
        "id": "hRs5NbUUhoxf"
      },
      "source": [
        "from math import factorial\n",
        "import numpy as np\n",
        "\n",
        "# сочетание\n",
        "def combinations(n, k): \n",
        "    return int(factorial(n) / (factorial(k) * factorial(n - k)))"
      ],
      "execution_count": 1,
      "outputs": []
    },
    {
      "cell_type": "markdown",
      "metadata": {
        "id": "Aw3YTbchhtyS"
      },
      "source": [
        "**Даны значения зарплат из выборки выпускников: 100, 80, 75, 77, 89, 33, 45, 25, 65, 17, 30, 24, 57, 55, 70, 75, 65, 84, 90, 150. Посчитать (желательно без использования статистических методов наподобие std, var, mean) среднее арифметическое, среднее квадратичное отклонение, смещенную и несмещенную оценки дисперсий для данной выборки.**"
      ]
    },
    {
      "cell_type": "code",
      "metadata": {
        "id": "JT-ZqQwwhvO5"
      },
      "source": [
        "salaries = np.array([100, 80, 75, 77, 89, 33, 45, 25, 65, 17, 30, 24, 57, 55, 70, 75, 65, 84, 90, 150])"
      ],
      "execution_count": 2,
      "outputs": []
    },
    {
      "cell_type": "code",
      "metadata": {
        "colab": {
          "base_uri": "https://localhost:8080/"
        },
        "id": "NYTsYta7iDVC",
        "outputId": "f9f8e786-7ba6-4788-e81f-412cf988070b"
      },
      "source": [
        "# Cреднее арифметическое\n",
        "salaries_mean = salaries.sum() / salaries.size\n",
        "salaries_mean"
      ],
      "execution_count": 3,
      "outputs": [
        {
          "output_type": "execute_result",
          "data": {
            "text/plain": [
              "65.3"
            ]
          },
          "metadata": {
            "tags": []
          },
          "execution_count": 3
        }
      ]
    },
    {
      "cell_type": "code",
      "metadata": {
        "colab": {
          "base_uri": "https://localhost:8080/"
        },
        "id": "MoVonXJWiK1h",
        "outputId": "b58dc6cc-83d2-435e-ed07-8f21df019389"
      },
      "source": [
        "# Cреднее арифметическое\n",
        "(np.sum((salaries - salaries_mean)**2) / salaries.size)**0.5"
      ],
      "execution_count": 4,
      "outputs": [
        {
          "output_type": "execute_result",
          "data": {
            "text/plain": [
              "30.823854398825596"
            ]
          },
          "metadata": {
            "tags": []
          },
          "execution_count": 4
        }
      ]
    },
    {
      "cell_type": "code",
      "metadata": {
        "colab": {
          "base_uri": "https://localhost:8080/"
        },
        "id": "xyUxSOLciOj6",
        "outputId": "d625682b-dfa2-4794-fa13-618672afcf26"
      },
      "source": [
        "# Cреднее арифметическое\n",
        "np.sum((salaries - salaries_mean)**2) / salaries.size"
      ],
      "execution_count": 5,
      "outputs": [
        {
          "output_type": "execute_result",
          "data": {
            "text/plain": [
              "950.11"
            ]
          },
          "metadata": {
            "tags": []
          },
          "execution_count": 5
        }
      ]
    },
    {
      "cell_type": "code",
      "metadata": {
        "colab": {
          "base_uri": "https://localhost:8080/"
        },
        "id": "JLerHxYciTCC",
        "outputId": "ae8d69a4-0c50-4ece-a5b7-eaceaa92b914"
      },
      "source": [
        "# Несмещенную дисперсию\n",
        "np.sum((salaries - salaries_mean)**2) / (salaries.size - 1)"
      ],
      "execution_count": 6,
      "outputs": [
        {
          "output_type": "execute_result",
          "data": {
            "text/plain": [
              "1000.1157894736842"
            ]
          },
          "metadata": {
            "tags": []
          },
          "execution_count": 6
        }
      ]
    },
    {
      "cell_type": "markdown",
      "metadata": {
        "id": "jX9pf21TiYNz"
      },
      "source": [
        "**В первом ящике находится 8 мячей, из которых 5 - белые. Во втором ящике - 12 мячей, из которых 5 белых. Из первого ящика вытаскивают случайным образом два мяча, из второго - 4. Какова вероятность того, что 3 мяча белые?**"
      ]
    },
    {
      "cell_type": "code",
      "metadata": {
        "colab": {
          "base_uri": "https://localhost:8080/"
        },
        "id": "C2NQuNfaiZJb",
        "outputId": "1ddd4e5f-96b5-4ae8-85be-5d7f4c13f36c"
      },
      "source": [
        "# белые мячи достают из второго ящика\n",
        "p1 = ((combinations(5,0) * combinations(3,2))/combinations(8,2)) * ((combinations(5,3) * combinations(7,1))/combinations(12,4))\n",
        "p1"
      ],
      "execution_count": 7,
      "outputs": [
        {
          "output_type": "execute_result",
          "data": {
            "text/plain": [
              "0.01515151515151515"
            ]
          },
          "metadata": {
            "tags": []
          },
          "execution_count": 7
        }
      ]
    },
    {
      "cell_type": "code",
      "metadata": {
        "colab": {
          "base_uri": "https://localhost:8080/"
        },
        "id": "GmClePdKjFip",
        "outputId": "cb7badd7-aba3-40e8-c51b-071362c82e9e"
      },
      "source": [
        "# белые мячи достают: 1 из первого ящика и 2 из второго ящика\n",
        "p2 = ((combinations(5,1) * combinations(3,1))/combinations(8,2)) * ((combinations(5,2) * combinations(7,2))/combinations(12,4))\n",
        "p2"
      ],
      "execution_count": 8,
      "outputs": [
        {
          "output_type": "execute_result",
          "data": {
            "text/plain": [
              "0.22727272727272727"
            ]
          },
          "metadata": {
            "tags": []
          },
          "execution_count": 8
        }
      ]
    },
    {
      "cell_type": "code",
      "metadata": {
        "colab": {
          "base_uri": "https://localhost:8080/"
        },
        "id": "rOi4hVGOjUwq",
        "outputId": "2a5cd0c2-138c-4faa-d668-f9b10d4d326f"
      },
      "source": [
        "# белые мячи достают: 2 из первого ящика и 1 из второго ящика\n",
        "p3 = ((combinations(5,2) * combinations(3,0))/combinations(8,2)) * ((combinations(5,1) * combinations(7,3))/combinations(12,4))\n",
        "p3"
      ],
      "execution_count": 9,
      "outputs": [
        {
          "output_type": "execute_result",
          "data": {
            "text/plain": [
              "0.12626262626262627"
            ]
          },
          "metadata": {
            "tags": []
          },
          "execution_count": 9
        }
      ]
    },
    {
      "cell_type": "code",
      "metadata": {
        "colab": {
          "base_uri": "https://localhost:8080/"
        },
        "id": "6zjaznPhjiDn",
        "outputId": "ed766d3e-7a74-4e3c-e026-cfd85b2d45dd"
      },
      "source": [
        "p = p1 + p2 + p3\n",
        "p"
      ],
      "execution_count": 10,
      "outputs": [
        {
          "output_type": "execute_result",
          "data": {
            "text/plain": [
              "0.3686868686868687"
            ]
          },
          "metadata": {
            "tags": []
          },
          "execution_count": 10
        }
      ]
    },
    {
      "cell_type": "markdown",
      "metadata": {
        "id": "Neaengbijool"
      },
      "source": [
        "**На соревновании по биатлону один из трех спортсменов стреляет и попадает в мишень. Вероятность попадания для первого спортсмена равна 0.9, для второго — 0.8, для третьего — 0.6. Найти вероятность того, что выстрел произведен: a). первым спортсменом б). вторым спортсменом в). третьим спортсменом.**"
      ]
    },
    {
      "cell_type": "code",
      "metadata": {
        "colab": {
          "base_uri": "https://localhost:8080/"
        },
        "id": "6bQrdBbajpiV",
        "outputId": "d5c24b9b-c13f-4071-abba-1a9f581edf1a"
      },
      "source": [
        "pA = 1/3 * 0.9 + 1/3 * 0.8 + 1/3 * 0.6\n",
        "\n",
        "p1 = (1/3 * 0.9) / pA\n",
        "p2 = (1/3 * 0.8) / pA\n",
        "p3 = (1/3 * 0.6) / pA\n",
        "\n",
        "pA,p1,p2,p3,p1+p2+p3"
      ],
      "execution_count": 11,
      "outputs": [
        {
          "output_type": "execute_result",
          "data": {
            "text/plain": [
              "(0.7666666666666666,\n",
              " 0.391304347826087,\n",
              " 0.3478260869565218,\n",
              " 0.2608695652173913,\n",
              " 1.0)"
            ]
          },
          "metadata": {
            "tags": []
          },
          "execution_count": 11
        }
      ]
    },
    {
      "cell_type": "markdown",
      "metadata": {
        "id": "-Qz8WjpmkuAj"
      },
      "source": [
        "**В университет на факультеты A и B поступило равное количество студентов, а на факультет C студентов поступило столько же, сколько на A и B вместе. Вероятность того, что студент факультета A сдаст первую сессию, равна 0.8. Для студента факультета B эта вероятность равна 0.7, а для студента факультета C - 0.9. Студент сдал первую сессию. Какова вероятность, что он учится: a). на факультете A б). на факультете B в). на факультете C?**"
      ]
    },
    {
      "cell_type": "code",
      "metadata": {
        "colab": {
          "base_uri": "https://localhost:8080/"
        },
        "id": "D1pnZtDekx3h",
        "outputId": "375ec2fe-a68d-4e12-859e-1171d37fe7c9"
      },
      "source": [
        "# допустим на факультет А и В поступили по 30 человек, значит на факультет С поступило 60 человек, если все сложить то получается 120, веротяность того,\n",
        "# что студен будет с факультета А или В 1/4 а с факультета С 1/2\n",
        "\n",
        "pA = 1/4 * 0.8 + 1/4 * 0.7 + 1/2 * 0.9\n",
        "p1 = 1/4 * 0.8 / pA\n",
        "p2 = 1/4 * 0.7 / pA\n",
        "p3 = 1/2 * 0.9 / pA\n",
        "\n",
        "\n",
        "pA,p1,p2,p3,p1+p2+p3"
      ],
      "execution_count": 12,
      "outputs": [
        {
          "output_type": "execute_result",
          "data": {
            "text/plain": [
              "(0.825, 0.24242424242424246, 0.21212121212121213, 0.5454545454545455, 1.0)"
            ]
          },
          "metadata": {
            "tags": []
          },
          "execution_count": 12
        }
      ]
    },
    {
      "cell_type": "markdown",
      "metadata": {
        "id": "yaw0v7_5m-n0"
      },
      "source": [
        "**Устройство состоит из трех деталей. Для первой детали вероятность выйти из строя в первый месяц равна 0.1, для второй - 0.2, для третьей - 0.25. Какова вероятность того, что в первый месяц выйдут из строя: а). все детали б). только две детали в). хотя бы одна деталь г). от одной до двух деталей?**"
      ]
    },
    {
      "cell_type": "code",
      "metadata": {
        "colab": {
          "base_uri": "https://localhost:8080/"
        },
        "id": "Ly1tGGFWm_sU",
        "outputId": "45d158f5-71fa-434c-bed3-0094abdfa1d5"
      },
      "source": [
        "# a\n",
        "0.1 * 0.2 * 0.25"
      ],
      "execution_count": 13,
      "outputs": [
        {
          "output_type": "execute_result",
          "data": {
            "text/plain": [
              "0.005000000000000001"
            ]
          },
          "metadata": {
            "tags": []
          },
          "execution_count": 13
        }
      ]
    },
    {
      "cell_type": "code",
      "metadata": {
        "colab": {
          "base_uri": "https://localhost:8080/"
        },
        "id": "I501bKzbncge",
        "outputId": "accdcf37-4271-4604-d00d-d58206c527a4"
      },
      "source": [
        "# б\n",
        "0.9 * 0.2 * 0.25 + 0.1 * 0.8 * 0.25 + 0.1 * 0.2 * 0.75"
      ],
      "execution_count": 14,
      "outputs": [
        {
          "output_type": "execute_result",
          "data": {
            "text/plain": [
              "0.08"
            ]
          },
          "metadata": {
            "tags": []
          },
          "execution_count": 14
        }
      ]
    },
    {
      "cell_type": "code",
      "metadata": {
        "colab": {
          "base_uri": "https://localhost:8080/"
        },
        "id": "orFAHYnnnzsr",
        "outputId": "3142ba8f-974b-48e3-93c1-af2b74b266de"
      },
      "source": [
        "# в\n",
        "1 - (0.9 * 0.8 * 0.75)"
      ],
      "execution_count": 15,
      "outputs": [
        {
          "output_type": "execute_result",
          "data": {
            "text/plain": [
              "0.45999999999999996"
            ]
          },
          "metadata": {
            "tags": []
          },
          "execution_count": 15
        }
      ]
    },
    {
      "cell_type": "code",
      "metadata": {
        "colab": {
          "base_uri": "https://localhost:8080/"
        },
        "id": "HM6la8hyn8tt",
        "outputId": "479ffcc9-61e4-450e-cda3-e7fd9b9a9351"
      },
      "source": [
        "# г\n",
        "1 - 0.9*0.8*0.75 - 0.1*0.2*0.25"
      ],
      "execution_count": 16,
      "outputs": [
        {
          "output_type": "execute_result",
          "data": {
            "text/plain": [
              "0.45499999999999996"
            ]
          },
          "metadata": {
            "tags": []
          },
          "execution_count": 16
        }
      ]
    }
  ]
}