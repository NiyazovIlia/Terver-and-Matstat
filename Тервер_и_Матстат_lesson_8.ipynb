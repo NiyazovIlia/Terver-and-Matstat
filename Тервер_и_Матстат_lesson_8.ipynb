{
  "nbformat": 4,
  "nbformat_minor": 0,
  "metadata": {
    "colab": {
      "name": "Тервер и Матстат lesson 8.ipynb",
      "provenance": [],
      "authorship_tag": "ABX9TyOY3vJYmaZdzJcMaedCW7lJ",
      "include_colab_link": true
    },
    "kernelspec": {
      "name": "python3",
      "display_name": "Python 3"
    },
    "language_info": {
      "name": "python"
    }
  },
  "cells": [
    {
      "cell_type": "markdown",
      "metadata": {
        "id": "view-in-github",
        "colab_type": "text"
      },
      "source": [
        "<a href=\"https://colab.research.google.com/github/NiyazovIlia/Terver-and-Matstat/blob/lesson-8/%D0%A2%D0%B5%D1%80%D0%B2%D0%B5%D1%80_%D0%B8_%D0%9C%D0%B0%D1%82%D1%81%D1%82%D0%B0%D1%82_lesson_8.ipynb\" target=\"_parent\"><img src=\"https://colab.research.google.com/assets/colab-badge.svg\" alt=\"Open In Colab\"/></a>"
      ]
    },
    {
      "cell_type": "code",
      "metadata": {
        "id": "_LfR_Zvo6K4v"
      },
      "source": [
        "import pandas as pd\n",
        "import numpy as np"
      ],
      "execution_count": 1,
      "outputs": []
    },
    {
      "cell_type": "markdown",
      "metadata": {
        "id": "l8dIvHqK6QFG"
      },
      "source": [
        "**Провести дисперсионный анализ для определения того, есть ли различия среднего роста среди взрослых футболистов, хоккеистов и штангистов. Даны значения роста в трех группах случайно выбранных спортсменов: Футболисты: 173, 175, 180, 178, 177, 185, 183, 182. Хоккеисты: 177, 179, 180, 188, 177, 172, 171, 184, 180. Штангисты: 172, 173, 169, 177, 166, 180, 178, 177, 172, 166, 170.**"
      ]
    },
    {
      "cell_type": "code",
      "metadata": {
        "id": "QpyLycHx6SLN"
      },
      "source": [
        "football = np.array([173, 175, 180, 178, 177, 185, 183, 182])\n",
        "hockey = np.array([177, 179, 180, 188, 177, 172, 171, 184, 180])\n",
        "weightlifters = np.array([172, 173, 169, 177, 166, 180, 178, 177, 172, 166, 170])"
      ],
      "execution_count": 2,
      "outputs": []
    },
    {
      "cell_type": "markdown",
      "metadata": {
        "id": "JYeV9JdC6aqu"
      },
      "source": [
        "**Средний рост**"
      ]
    },
    {
      "cell_type": "code",
      "metadata": {
        "colab": {
          "base_uri": "https://localhost:8080/"
        },
        "id": "ZkMUqsAy6cet",
        "outputId": "761c848b-bd0b-401b-c4ad-baa15e7def21"
      },
      "source": [
        "f_mean = football.mean()\n",
        "f_mean"
      ],
      "execution_count": 3,
      "outputs": [
        {
          "output_type": "execute_result",
          "data": {
            "text/plain": [
              "179.125"
            ]
          },
          "metadata": {
            "tags": []
          },
          "execution_count": 3
        }
      ]
    },
    {
      "cell_type": "code",
      "metadata": {
        "colab": {
          "base_uri": "https://localhost:8080/"
        },
        "id": "-bNWUwX16lKQ",
        "outputId": "17ddc4f3-2bb1-47dc-9b57-6a8dce51bfea"
      },
      "source": [
        "h_mean = hockey.mean()\n",
        "h_mean"
      ],
      "execution_count": 4,
      "outputs": [
        {
          "output_type": "execute_result",
          "data": {
            "text/plain": [
              "178.66666666666666"
            ]
          },
          "metadata": {
            "tags": []
          },
          "execution_count": 4
        }
      ]
    },
    {
      "cell_type": "code",
      "metadata": {
        "colab": {
          "base_uri": "https://localhost:8080/"
        },
        "id": "1w865LeW6lpu",
        "outputId": "d249fe5d-c32f-42b3-d506-288e62f46fcd"
      },
      "source": [
        "w_mean = weightlifters.mean()\n",
        "w_mean"
      ],
      "execution_count": 5,
      "outputs": [
        {
          "output_type": "execute_result",
          "data": {
            "text/plain": [
              "172.72727272727272"
            ]
          },
          "metadata": {
            "tags": []
          },
          "execution_count": 5
        }
      ]
    },
    {
      "cell_type": "code",
      "metadata": {
        "colab": {
          "base_uri": "https://localhost:8080/"
        },
        "id": "VmEFapYy6sYd",
        "outputId": "9f492326-6c52-45a3-c2eb-205494fce041"
      },
      "source": [
        "all_hight = np.hstack((football,hockey, weightlifters))\n",
        "all_mean = all_hight.mean()\n",
        "all_mean"
      ],
      "execution_count": 6,
      "outputs": [
        {
          "output_type": "execute_result",
          "data": {
            "text/plain": [
              "176.46428571428572"
            ]
          },
          "metadata": {
            "tags": []
          },
          "execution_count": 6
        }
      ]
    },
    {
      "cell_type": "code",
      "metadata": {
        "colab": {
          "base_uri": "https://localhost:8080/"
        },
        "id": "EFvG_Y5X6x7N",
        "outputId": "d582c4fc-b5c7-48c7-e03c-c0518576513a"
      },
      "source": [
        "all_s2 = np.sum((all_hight - all_mean) ** 2)\n",
        "all_s2"
      ],
      "execution_count": 7,
      "outputs": [
        {
          "output_type": "execute_result",
          "data": {
            "text/plain": [
              "830.9642857142854"
            ]
          },
          "metadata": {
            "tags": []
          },
          "execution_count": 7
        }
      ]
    },
    {
      "cell_type": "code",
      "metadata": {
        "colab": {
          "base_uri": "https://localhost:8080/"
        },
        "id": "zM30V8dI6zkd",
        "outputId": "afd14223-3c3a-43ec-9b37-f534e76cc53a"
      },
      "source": [
        "s2f = (f_mean - all_mean) ** 2 * len(football) + (h_mean - all_mean) ** 2 * len(hockey) + (w_mean - all_mean) ** 2 * len(weightlifters)\n",
        "s2f"
      ],
      "execution_count": 8,
      "outputs": [
        {
          "output_type": "execute_result",
          "data": {
            "text/plain": [
              "253.9074675324678"
            ]
          },
          "metadata": {
            "tags": []
          },
          "execution_count": 8
        }
      ]
    },
    {
      "cell_type": "code",
      "metadata": {
        "colab": {
          "base_uri": "https://localhost:8080/"
        },
        "id": "XDrQA0mp62bN",
        "outputId": "a93b7f13-b6aa-46db-f0be-b2e62812c9d6"
      },
      "source": [
        "s2_ost = np.sum((football - f_mean) ** 2) + np.sum((hockey - h_mean) ** 2) + np.sum((weightlifters - w_mean) ** 2)\n",
        "s2_ost"
      ],
      "execution_count": 9,
      "outputs": [
        {
          "output_type": "execute_result",
          "data": {
            "text/plain": [
              "577.0568181818182"
            ]
          },
          "metadata": {
            "tags": []
          },
          "execution_count": 9
        }
      ]
    },
    {
      "cell_type": "code",
      "metadata": {
        "colab": {
          "base_uri": "https://localhost:8080/"
        },
        "id": "QcmJBU4T65GI",
        "outputId": "cfe9de89-0de2-4476-af71-7b57e62c21ee"
      },
      "source": [
        "s2_ost + s2f"
      ],
      "execution_count": 10,
      "outputs": [
        {
          "output_type": "execute_result",
          "data": {
            "text/plain": [
              "830.964285714286"
            ]
          },
          "metadata": {
            "tags": []
          },
          "execution_count": 10
        }
      ]
    },
    {
      "cell_type": "markdown",
      "metadata": {
        "id": "jeukvn7X66jm"
      },
      "source": [
        "**Общая дисперсия**"
      ]
    },
    {
      "cell_type": "code",
      "metadata": {
        "colab": {
          "base_uri": "https://localhost:8080/"
        },
        "id": "bRtoMavP67S_",
        "outputId": "5f95a787-b078-44fb-a7b6-d2a655048ade"
      },
      "source": [
        "s2_general = all_s2 / (len(all_hight) - 1)\n",
        "s2_general"
      ],
      "execution_count": 11,
      "outputs": [
        {
          "output_type": "execute_result",
          "data": {
            "text/plain": [
              "30.776455026455015"
            ]
          },
          "metadata": {
            "tags": []
          },
          "execution_count": 11
        }
      ]
    },
    {
      "cell_type": "markdown",
      "metadata": {
        "id": "4kmqin9r6_fl"
      },
      "source": [
        "**Факторная дисперсия**"
      ]
    },
    {
      "cell_type": "code",
      "metadata": {
        "colab": {
          "base_uri": "https://localhost:8080/"
        },
        "id": "OBkQp68m7AdS",
        "outputId": "638eae53-1a1f-49f3-b608-24651bff7ba7"
      },
      "source": [
        "s2_factor = s2f / (3 - 1)\n",
        "s2_factor"
      ],
      "execution_count": 12,
      "outputs": [
        {
          "output_type": "execute_result",
          "data": {
            "text/plain": [
              "126.9537337662339"
            ]
          },
          "metadata": {
            "tags": []
          },
          "execution_count": 12
        }
      ]
    },
    {
      "cell_type": "markdown",
      "metadata": {
        "id": "9ESVruV17CLN"
      },
      "source": [
        "**Остаточная дисперсия**"
      ]
    },
    {
      "cell_type": "code",
      "metadata": {
        "colab": {
          "base_uri": "https://localhost:8080/"
        },
        "id": "6aXJRIL47CyX",
        "outputId": "1f432b8e-e433-44c0-d89f-ce77f0406edf"
      },
      "source": [
        "s2_residual = s2_ost / (len(all_hight) - 3)\n",
        "s2_residual"
      ],
      "execution_count": 13,
      "outputs": [
        {
          "output_type": "execute_result",
          "data": {
            "text/plain": [
              "23.08227272727273"
            ]
          },
          "metadata": {
            "tags": []
          },
          "execution_count": 13
        }
      ]
    },
    {
      "cell_type": "code",
      "metadata": {
        "colab": {
          "base_uri": "https://localhost:8080/"
        },
        "id": "HBzk9eBU7E1m",
        "outputId": "75eec273-c6b1-45f4-817c-d3c68e98adb9"
      },
      "source": [
        "F_h = s2_factor / s2_residual\n",
        "F_h"
      ],
      "execution_count": 14,
      "outputs": [
        {
          "output_type": "execute_result",
          "data": {
            "text/plain": [
              "5.500053450812598"
            ]
          },
          "metadata": {
            "tags": []
          },
          "execution_count": 14
        }
      ]
    },
    {
      "cell_type": "code",
      "metadata": {
        "colab": {
          "base_uri": "https://localhost:8080/"
        },
        "id": "DzqY8RBM7GBd",
        "outputId": "dc6c4a73-15c7-44fc-a1fb-3d5060ee6b01"
      },
      "source": [
        "len(all_hight)"
      ],
      "execution_count": 15,
      "outputs": [
        {
          "output_type": "execute_result",
          "data": {
            "text/plain": [
              "28"
            ]
          },
          "metadata": {
            "tags": []
          },
          "execution_count": 15
        }
      ]
    },
    {
      "cell_type": "code",
      "metadata": {
        "colab": {
          "base_uri": "https://localhost:8080/"
        },
        "id": "1OfBzKHq7H_9",
        "outputId": "6dbcf5fc-7da1-472e-aa56-98afd3964d6a"
      },
      "source": [
        "alpha = 0.05\n",
        "d_f1 = 3 - 1\n",
        "d_f2 = len(all_hight) - 3\n",
        "d_f1, d_f2"
      ],
      "execution_count": 16,
      "outputs": [
        {
          "output_type": "execute_result",
          "data": {
            "text/plain": [
              "(2, 25)"
            ]
          },
          "metadata": {
            "tags": []
          },
          "execution_count": 16
        }
      ]
    },
    {
      "cell_type": "code",
      "metadata": {
        "colab": {
          "base_uri": "https://localhost:8080/"
        },
        "id": "Ji27301_7Pl-",
        "outputId": "80a85272-6241-4b27-b8a1-b8923c027a56"
      },
      "source": [
        "F_kr = 3.4928\n",
        "F_kr > F_h"
      ],
      "execution_count": 17,
      "outputs": [
        {
          "output_type": "execute_result",
          "data": {
            "text/plain": [
              "False"
            ]
          },
          "metadata": {
            "tags": []
          },
          "execution_count": 17
        }
      ]
    },
    {
      "cell_type": "markdown",
      "metadata": {
        "id": "1VjeBHjv7lwu"
      },
      "source": [
        "**Следовательно различие менжду группами статически не значительное**"
      ]
    }
  ]
}