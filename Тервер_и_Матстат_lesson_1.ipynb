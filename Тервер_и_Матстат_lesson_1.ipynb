{
  "nbformat": 4,
  "nbformat_minor": 0,
  "metadata": {
    "colab": {
      "name": "Тервер и Матстат lesson 1.ipynb",
      "provenance": [],
      "authorship_tag": "ABX9TyN4BEV++1bEEjRxLJLtwnQr",
      "include_colab_link": true
    },
    "kernelspec": {
      "name": "python3",
      "display_name": "Python 3"
    },
    "language_info": {
      "name": "python"
    }
  },
  "cells": [
    {
      "cell_type": "markdown",
      "metadata": {
        "id": "view-in-github",
        "colab_type": "text"
      },
      "source": [
        "<a href=\"https://colab.research.google.com/github/NiyazovIlia/Terver-and-Matstat/blob/lesson-1/%D0%A2%D0%B5%D1%80%D0%B2%D0%B5%D1%80_%D0%B8_%D0%9C%D0%B0%D1%82%D1%81%D1%82%D0%B0%D1%82_lesson_1.ipynb\" target=\"_parent\"><img src=\"https://colab.research.google.com/assets/colab-badge.svg\" alt=\"Open In Colab\"/></a>"
      ]
    },
    {
      "cell_type": "code",
      "metadata": {
        "id": "3upG02yBoTyh"
      },
      "source": [
        "from math import factorial\n",
        "\n",
        "# сочетание\n",
        "def combinations(n, k): \n",
        "    return int(factorial(n) / (factorial(k) * factorial(n - k)))\n",
        "\n",
        "# Размещение\n",
        "def arrangements(n, k):\n",
        "    return int(factorial(n) / factorial(n - k))\n",
        "\n",
        "# Перестановка\n",
        "def permutations(n):\n",
        "    return int(factorial(n))"
      ],
      "execution_count": 1,
      "outputs": []
    },
    {
      "cell_type": "markdown",
      "metadata": {
        "id": "KCPyko3vox5M"
      },
      "source": [
        "Из колоды в 52 карты извлекаются случайным образом 4 карты. a) Найти вероятность того, что все карты – крести. б) Найти вероятность, что среди 4-х карт окажется хотя бы один туз."
      ]
    },
    {
      "cell_type": "code",
      "metadata": {
        "colab": {
          "base_uri": "https://localhost:8080/"
        },
        "id": "JpLbZGS1oxYM",
        "outputId": "22138c83-b186-4707-bfa8-f8adda426ce1"
      },
      "source": [
        "# a\n",
        "a = combinations(13, 4)\n",
        "b = combinations(54, 4)\n",
        "d = a/b\n",
        "\n",
        "# b\n",
        "a = combinations(4,1)\n",
        "c = combinations(48,3)\n",
        "e = (a * c)/b\n",
        "\n",
        "\n",
        "d,e"
      ],
      "execution_count": 4,
      "outputs": [
        {
          "output_type": "execute_result",
          "data": {
            "text/plain": [
              "(0.002260862416245324, 0.2187629446231)"
            ]
          },
          "metadata": {
            "tags": []
          },
          "execution_count": 4
        }
      ]
    },
    {
      "cell_type": "markdown",
      "metadata": {
        "id": "ZvUvxtaFphj8"
      },
      "source": [
        "На входной двери подъезда установлен кодовый замок, содержащий десять кнопок с цифрами от 0 до 9. Код содержит три цифры, которые нужно нажать одновременно. Какова вероятность того, что человек, не знающий код, откроет дверь с первой попытки?"
      ]
    },
    {
      "cell_type": "code",
      "metadata": {
        "colab": {
          "base_uri": "https://localhost:8080/"
        },
        "id": "9xmN5-vbphHj",
        "outputId": "59b21725-ab95-4afa-ac0f-e15d9d0aeeca"
      },
      "source": [
        "# 1 вариант\n",
        "\n",
        "a = (1/10) * (1/9) * (1/8)\n",
        "\n",
        "# 2 вариант\n",
        "\n",
        "b = arrangements(10, 3)\n",
        "c = 1/b\n",
        "\n",
        "\n",
        "a,c"
      ],
      "execution_count": 6,
      "outputs": [
        {
          "output_type": "execute_result",
          "data": {
            "text/plain": [
              "(0.001388888888888889, 0.001388888888888889)"
            ]
          },
          "metadata": {
            "tags": []
          },
          "execution_count": 6
        }
      ]
    },
    {
      "cell_type": "markdown",
      "metadata": {
        "id": "zKm8drfup5yk"
      },
      "source": [
        "В ящике имеется 15 деталей, из которых 9 окрашены. Рабочий случайным образом извлекает 3 детали. Какова вероятность того, что все извлеченные детали окрашены?"
      ]
    },
    {
      "cell_type": "code",
      "metadata": {
        "colab": {
          "base_uri": "https://localhost:8080/"
        },
        "id": "KXLe80SMp6RH",
        "outputId": "0c423da4-e9ac-4ba5-d8d4-3856714797f7"
      },
      "source": [
        "# 1 вариант\n",
        "\n",
        "a = (9/15) * (8/14) * (7/13)\n",
        "\n",
        "# 2 вариант\n",
        "\n",
        "b = combinations(9, 3)\n",
        "c = combinations(15,3)\n",
        "d = b/c\n",
        "\n",
        "a,d"
      ],
      "execution_count": 7,
      "outputs": [
        {
          "output_type": "execute_result",
          "data": {
            "text/plain": [
              "(0.18461538461538457, 0.18461538461538463)"
            ]
          },
          "metadata": {
            "tags": []
          },
          "execution_count": 7
        }
      ]
    },
    {
      "cell_type": "markdown",
      "metadata": {
        "id": "gcVxebDnqIg0"
      },
      "source": [
        "В лотерее 100 билетов. Из них 2 выигрышных. Какова вероятность того, что 2 приобретенных билета окажутся выигрышными?"
      ]
    },
    {
      "cell_type": "code",
      "metadata": {
        "colab": {
          "base_uri": "https://localhost:8080/"
        },
        "id": "ddw87_W3qJ1m",
        "outputId": "989f06d8-2140-4340-cd29-7a7077f1e245"
      },
      "source": [
        "a = combinations(2,2)\n",
        "b = combinations(100,2)\n",
        "c = a/b\n",
        "c"
      ],
      "execution_count": 9,
      "outputs": [
        {
          "output_type": "execute_result",
          "data": {
            "text/plain": [
              "0.00020202020202020202"
            ]
          },
          "metadata": {
            "tags": []
          },
          "execution_count": 9
        }
      ]
    }
  ]
}