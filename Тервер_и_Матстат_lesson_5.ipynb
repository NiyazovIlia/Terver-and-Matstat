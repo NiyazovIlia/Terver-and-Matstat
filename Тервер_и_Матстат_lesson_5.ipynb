{
  "nbformat": 4,
  "nbformat_minor": 0,
  "metadata": {
    "colab": {
      "name": "Тервер и Матстат lesson 5.ipynb",
      "provenance": [],
      "collapsed_sections": [],
      "authorship_tag": "ABX9TyMsWfLKTGlq0Tq/7YVwfkSM",
      "include_colab_link": true
    },
    "kernelspec": {
      "name": "python3",
      "display_name": "Python 3"
    },
    "language_info": {
      "name": "python"
    }
  },
  "cells": [
    {
      "cell_type": "markdown",
      "metadata": {
        "id": "view-in-github",
        "colab_type": "text"
      },
      "source": [
        "<a href=\"https://colab.research.google.com/github/NiyazovIlia/Terver-and-Matstat/blob/lesson-5/%D0%A2%D0%B5%D1%80%D0%B2%D0%B5%D1%80_%D0%B8_%D0%9C%D0%B0%D1%82%D1%81%D1%82%D0%B0%D1%82_lesson_5.ipynb\" target=\"_parent\"><img src=\"https://colab.research.google.com/assets/colab-badge.svg\" alt=\"Open In Colab\"/></a>"
      ]
    },
    {
      "cell_type": "markdown",
      "metadata": {
        "id": "gDWxB8B7PD1R"
      },
      "source": [
        "**Известно, что генеральная совокупность распределена нормально со средним квадратическим отклонением, равным 16. Найти доверительный интервал для оценки математического ожидания с надежностью 0.95, если выборочная средняя M = 80, а объем выборки n = 256**"
      ]
    },
    {
      "cell_type": "code",
      "metadata": {
        "colab": {
          "base_uri": "https://localhost:8080/"
        },
        "id": "rDvN5NdeO-dy",
        "outputId": "7912d79c-f602-4206-ef34-88fb1f1c5cca"
      },
      "source": [
        "std = 16\n",
        "M = 80\n",
        "n = 256\n",
        "alfa = 5\n",
        "z = 1.96 # по z таблице \n",
        "\n",
        "X_1 = M - (z*std)/(n)**(1/2)\n",
        "X_2 = M + (z*std)/(n)**(1/2)\n",
        "X_1,X_2"
      ],
      "execution_count": 1,
      "outputs": [
        {
          "output_type": "execute_result",
          "data": {
            "text/plain": [
              "(78.04, 81.96)"
            ]
          },
          "metadata": {
            "tags": []
          },
          "execution_count": 1
        }
      ]
    },
    {
      "cell_type": "markdown",
      "metadata": {
        "id": "PjSYT1ZvSwYZ"
      },
      "source": [
        "**В результате 10 независимых измерений некоторой величины X, выполненных с одинаковой точностью, получены опытные данные: 6.9, 6.1, 6.2, 6.8, 7.5, 6.3, 6.4, 6.9, 6.7, 6.1 Предполагая, что результаты измерений подчинены нормальному закону распределения вероятностей, оценить истинное значение величины X при помощи доверительного интервала, покрывающего это значение с доверительной вероятностью 0,95.**"
      ]
    },
    {
      "cell_type": "code",
      "metadata": {
        "colab": {
          "base_uri": "https://localhost:8080/"
        },
        "id": "jNMz6zbdSxkZ",
        "outputId": "15540e81-8d50-4ff8-98fa-b7180470e251"
      },
      "source": [
        "import numpy as np\n",
        "array = [6.9, 6.1, 6.2, 6.8, 7.5, 6.3, 6.4, 6.9, 6.7, 6.1]\n",
        "alfa = 5\n",
        "std = np.std(array)\n",
        "M = len(array)\n",
        "n = 10\n",
        "X = np.mean(array)\n",
        "t = 2.626\n",
        "\n",
        "X_1 = X - (t*std)/(n)**(1/2)\n",
        "X_2 = X + (t*std)/(n)**(1/2)\n",
        "X_1,X_2"
      ],
      "execution_count": 2,
      "outputs": [
        {
          "output_type": "execute_result",
          "data": {
            "text/plain": [
              "(6.234858377488642, 6.945141622511359)"
            ]
          },
          "metadata": {
            "tags": []
          },
          "execution_count": 2
        }
      ]
    },
    {
      "cell_type": "markdown",
      "metadata": {
        "id": "9BeXHEtEVMw3"
      },
      "source": [
        "**Утверждается, что шарики для подшипников, изготовленные автоматическим станком, имеют средний диаметр 17 мм. Используя односторонний критерий с α=0,05, проверить эту гипотезу, если в выборке из n=100 шариков средний диаметр оказался равным 17.5 мм, а дисперсия известна и равна 4 кв.мм.**"
      ]
    },
    {
      "cell_type": "code",
      "metadata": {
        "id": "15dhnedWVNzf",
        "colab": {
          "base_uri": "https://localhost:8080/"
        },
        "outputId": "285ba658-9e85-4f1c-96ed-267bbf2759d8"
      },
      "source": [
        "X = 17\n",
        "X_2 = 17.5\n",
        "alfa = 5\n",
        "n = 100\n",
        "D = 4\n",
        "\n",
        "answer = (X_2 - X)/((D/2)/(n)**(1/2))\n",
        "answer\n",
        "# по таблице Z получаем значение 1.65. Что говорит о том, что условие верно если альфа будет равняться 5%, \n",
        "# так как расчетное значение 2.5 больше чем табличное 1.65"
      ],
      "execution_count": 3,
      "outputs": [
        {
          "output_type": "execute_result",
          "data": {
            "text/plain": [
              "2.5"
            ]
          },
          "metadata": {
            "tags": []
          },
          "execution_count": 3
        }
      ]
    },
    {
      "cell_type": "markdown",
      "metadata": {
        "id": "5qhf5DoPYl7q"
      },
      "source": [
        "**Продавец утверждает, что средний вес пачки печенья составляет 200 г. Из партии извлечена выборка из 10 пачек.\n",
        "Вес каждой пачки составляет:\n",
        "202, 203, 199, 197, 195, 201, 200, 204, 194, 190. Известно,\n",
        "что их веса распределены нормально.\n",
        "Верно ли утверждение продавца, если учитывать, что доверительная вероятность равна 99%?**"
      ]
    },
    {
      "cell_type": "code",
      "metadata": {
        "colab": {
          "base_uri": "https://localhost:8080/"
        },
        "id": "JwCZu9rhYprx",
        "outputId": "8533413f-975b-4453-e699-242f6e4da6b2"
      },
      "source": [
        "X = 200\n",
        "array = [202, 203, 199, 197, 195, 201, 200, 204, 194, 190]\n",
        "std = np.std(array)\n",
        "n = 10\n",
        "alfa = 1\n",
        "X_2 = np.mean(array)\n",
        "\n",
        "answer = (X_2 - X)/((std)/(n)**(1/2))\n",
        "answer\n",
        "# значение по таблице Стьюдента 3,25, что говорит о том, что условие верно, так как значение расчетное -1.12"
      ],
      "execution_count": 4,
      "outputs": [
        {
          "output_type": "execute_result",
          "data": {
            "text/plain": [
              "-1.1227217828476797"
            ]
          },
          "metadata": {
            "tags": []
          },
          "execution_count": 4
        }
      ]
    }
  ]
}