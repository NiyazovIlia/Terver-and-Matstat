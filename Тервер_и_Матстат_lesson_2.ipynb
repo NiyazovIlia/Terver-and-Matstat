{
  "nbformat": 4,
  "nbformat_minor": 0,
  "metadata": {
    "colab": {
      "name": "Тервер и Матстат lesson 2.ipynb",
      "provenance": [],
      "authorship_tag": "ABX9TyOcjFUTH3HhGO+HO/fntXnr",
      "include_colab_link": true
    },
    "kernelspec": {
      "name": "python3",
      "display_name": "Python 3"
    },
    "language_info": {
      "name": "python"
    }
  },
  "cells": [
    {
      "cell_type": "markdown",
      "metadata": {
        "id": "view-in-github",
        "colab_type": "text"
      },
      "source": [
        "<a href=\"https://colab.research.google.com/github/NiyazovIlia/Terver-and-Matstat/blob/lesson-2/%D0%A2%D0%B5%D1%80%D0%B2%D0%B5%D1%80_%D0%B8_%D0%9C%D0%B0%D1%82%D1%81%D1%82%D0%B0%D1%82_lesson_2.ipynb\" target=\"_parent\"><img src=\"https://colab.research.google.com/assets/colab-badge.svg\" alt=\"Open In Colab\"/></a>"
      ]
    },
    {
      "cell_type": "code",
      "metadata": {
        "id": "C4lh0kOmvt_k"
      },
      "source": [
        "from math import factorial\n",
        "\n",
        "# сочетание\n",
        "def combinations(n, k): \n",
        "    return int(factorial(n) / (factorial(k) * factorial(n - k)))"
      ],
      "execution_count": 1,
      "outputs": []
    },
    {
      "cell_type": "markdown",
      "metadata": {
        "id": "R6iME7FswAUS"
      },
      "source": [
        "**Вероятность того, что стрелок попадет в мишень, выстрелив один раз, равна 0.8. Стрелок выстрелил 100 раз. Найдите вероятность того, что стрелок попадет в цель ровно 85 раз.**"
      ]
    },
    {
      "cell_type": "code",
      "metadata": {
        "colab": {
          "base_uri": "https://localhost:8080/"
        },
        "id": "Uq5n4cW4wC9c",
        "outputId": "92729cc4-72e0-4829-a93a-1f07869fabf7"
      },
      "source": [
        "p = 0.8\n",
        "q = 1 - p\n",
        "k = 85\n",
        "n = 100\n",
        "\n",
        "answer = combinations(n,k) * (p ** k) * (q ** (n-k))\n",
        "answer"
      ],
      "execution_count": 2,
      "outputs": [
        {
          "output_type": "execute_result",
          "data": {
            "text/plain": [
              "0.048061793700746355"
            ]
          },
          "metadata": {
            "tags": []
          },
          "execution_count": 2
        }
      ]
    },
    {
      "cell_type": "markdown",
      "metadata": {
        "id": "112gRQ0Mwy6q"
      },
      "source": [
        "**Вероятность того, что лампочка перегорит в течение первого дня эксплуатации, равна 0.0004. В жилом комплексе после ремонта в один день включили 5000 новых лампочек. Какова вероятность, что ни одна из них не перегорит в первый день? Какова вероятность, что перегорят ровно две?**"
      ]
    },
    {
      "cell_type": "code",
      "metadata": {
        "colab": {
          "base_uri": "https://localhost:8080/"
        },
        "id": "NJ_XoPplw2Fi",
        "outputId": "e0e07322-d7d2-46b9-a17d-e3cbb797016d"
      },
      "source": [
        "p = 0.0004\n",
        "q = 1 - p\n",
        "n = 5000\n",
        "\n",
        "k_0 = 0\n",
        "\n",
        "answer_0 = combinations(n,k_0) * (p ** k_0) * (q ** (n-k_0))\n",
        "\n",
        "k_2 = 2\n",
        "\n",
        "answer_2 = combinations(n,k_2) * (p ** k_2) * (q ** (n-k_2))\n",
        "\n",
        "answer_0, answer_2"
      ],
      "execution_count": 3,
      "outputs": [
        {
          "output_type": "execute_result",
          "data": {
            "text/plain": [
              "(0.13528114551440706, 0.2707247150266753)"
            ]
          },
          "metadata": {
            "tags": []
          },
          "execution_count": 3
        }
      ]
    },
    {
      "cell_type": "markdown",
      "metadata": {
        "id": "zYyGmut3xgaC"
      },
      "source": [
        "**Монету подбросили 144 раза. Какова вероятность, что орел выпадет ровно 70 раз?**"
      ]
    },
    {
      "cell_type": "code",
      "metadata": {
        "colab": {
          "base_uri": "https://localhost:8080/"
        },
        "id": "gQK4G50exh6q",
        "outputId": "33ff6c3d-006b-4dad-f6fd-42429606b1b9"
      },
      "source": [
        "n = 144\n",
        "k = 70\n",
        "p = 0.5\n",
        "q = 1 - p\n",
        "\n",
        "answer = combinations(n,k) * (p ** k) * (q ** (n-k))\n",
        "answer"
      ],
      "execution_count": 4,
      "outputs": [
        {
          "output_type": "execute_result",
          "data": {
            "text/plain": [
              "0.06281178035144776"
            ]
          },
          "metadata": {
            "tags": []
          },
          "execution_count": 4
        }
      ]
    },
    {
      "cell_type": "markdown",
      "metadata": {
        "id": "FhmDPpUiyPHT"
      },
      "source": [
        "**В первом ящике находится 10 мячей, из которых 7 - белые. Во втором ящике - 11 мячей, из которых 9 белых. Из каждого ящика вытаскивают случайным образом по два мяча. Какова вероятность того, что все мячи белые? Какова вероятность того, что ровно два мяча белые? Какова вероятность того, что хотя бы один мяч белый?**"
      ]
    },
    {
      "cell_type": "code",
      "metadata": {
        "colab": {
          "base_uri": "https://localhost:8080/"
        },
        "id": "CCLtXA_syREy",
        "outputId": "5f1d282a-6604-4d69-c9bc-d44e3e9aae40"
      },
      "source": [
        "# Все белые\n",
        "answer_1 = combinations(7,2)/combinations(10,2) * combinations(9,2)/combinations(11,2)\n",
        "\n",
        "# Один белый\n",
        "answer_2 = 1 - (combinations(3,2)/combinations(10,2) * combinations(2,2)/combinations(11,2))\n",
        "\n",
        "# Два мяча белые\n",
        "answer_3 = (combinations(7,2)/combinations(10,2) * combinations(2,2)/combinations(11,2)) + (combinations(3,2)/combinations(10,2) * combinations(9,2)/combinations(11,2)) + (combinations(7,1)/combinations(10,2) * combinations(9,1)/combinations(11,2))\n",
        "\n",
        "answer_1,answer_2,answer_3"
      ],
      "execution_count": 5,
      "outputs": [
        {
          "output_type": "execute_result",
          "data": {
            "text/plain": [
              "(0.3054545454545455, 0.9987878787878788, 0.07757575757575758)"
            ]
          },
          "metadata": {
            "tags": []
          },
          "execution_count": 5
        }
      ]
    }
  ]
}