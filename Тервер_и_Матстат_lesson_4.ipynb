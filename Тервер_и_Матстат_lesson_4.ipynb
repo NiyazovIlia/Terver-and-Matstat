{
  "nbformat": 4,
  "nbformat_minor": 0,
  "metadata": {
    "colab": {
      "name": "Тервер и Матстат lesson 4.ipynb",
      "provenance": [],
      "authorship_tag": "ABX9TyN4RIgl8nRbFSweHFgS8/f1",
      "include_colab_link": true
    },
    "kernelspec": {
      "name": "python3",
      "display_name": "Python 3"
    },
    "language_info": {
      "name": "python"
    }
  },
  "cells": [
    {
      "cell_type": "markdown",
      "metadata": {
        "id": "view-in-github",
        "colab_type": "text"
      },
      "source": [
        "<a href=\"https://colab.research.google.com/github/NiyazovIlia/Terver-and-Matstat/blob/lesson-4/%D0%A2%D0%B5%D1%80%D0%B2%D0%B5%D1%80_%D0%B8_%D0%9C%D0%B0%D1%82%D1%81%D1%82%D0%B0%D1%82_lesson_4.ipynb\" target=\"_parent\"><img src=\"https://colab.research.google.com/assets/colab-badge.svg\" alt=\"Open In Colab\"/></a>"
      ]
    },
    {
      "cell_type": "markdown",
      "metadata": {
        "id": "Dk07CXdV6WjQ"
      },
      "source": [
        "**Случайная непрерывная величина A имеет равномерное распределение на промежутке (200, 800].\n",
        "Найдите ее среднее значение и дисперсию.**"
      ]
    },
    {
      "cell_type": "code",
      "metadata": {
        "colab": {
          "base_uri": "https://localhost:8080/"
        },
        "id": "GTxMd_ca6UvH",
        "outputId": "3c288362-16aa-44ab-8f9a-5dc75e2aa1e6"
      },
      "source": [
        "a = 200\n",
        "b = 800\n",
        "M = (a+b)/2\n",
        "D = ((b-a)**2)/12\n",
        "M,D"
      ],
      "execution_count": 1,
      "outputs": [
        {
          "output_type": "execute_result",
          "data": {
            "text/plain": [
              "(500.0, 30000.0)"
            ]
          },
          "metadata": {
            "tags": []
          },
          "execution_count": 1
        }
      ]
    },
    {
      "cell_type": "markdown",
      "metadata": {
        "id": "ICOdg6eZ6noW"
      },
      "source": [
        "**О случайной непрерывной равномерно распределенной величине B известно, что ее дисперсия равна 0.2.\n",
        "Можно ли найти правую границу величины B и ее среднее значение зная, что левая граница равна 0.5?\n",
        "Если да, найдите ее.**"
      ]
    },
    {
      "cell_type": "code",
      "metadata": {
        "colab": {
          "base_uri": "https://localhost:8080/"
        },
        "id": "ukR_JWj06qX_",
        "outputId": "cbd54c23-a57b-42c3-e379-fee97cb8f426"
      },
      "source": [
        "a = 0.5\n",
        "D = 0.2\n",
        "b = (D * 12)**(1/2) + a\n",
        "M = (a+b)/2\n",
        "b, M"
      ],
      "execution_count": 4,
      "outputs": [
        {
          "output_type": "execute_result",
          "data": {
            "text/plain": [
              "(2.049193338482967, 1.2745966692414834)"
            ]
          },
          "metadata": {
            "tags": []
          },
          "execution_count": 4
        }
      ]
    },
    {
      "cell_type": "markdown",
      "metadata": {
        "id": "lr44LZgm7_p4"
      },
      "source": [
        "**Непрерывная случайная величина X распределена нормально и задана плотностью распределения** f(x) = (1 / (4 * sqrt(2*pi))) * (exp(-((x+2)^2) / 32))\n",
        "\n",
        "Найдите: \n",
        "\n",
        "а)M(X) \n",
        "\n",
        "б)D(X) \n",
        "\n",
        "в)std(X) (среднее квадратичное отклонение)\n",
        "\n",
        "\n",
        "Ответ:\n",
        "\n",
        "M(x) = ?\n",
        "\n",
        "D(x) = 16\n",
        "\n",
        "std(x) = 4\n"
      ]
    },
    {
      "cell_type": "markdown",
      "metadata": {
        "id": "cQ_AIrvP8pW-"
      },
      "source": [
        "**Рост взрослого населения города X имеет нормальное распределение.\n",
        "Причем, средний рост равен 174 см, а среднее квадратичное отклонение равно 8 см.\n",
        "Какова вероятность того, что случайным образом выбранный взрослый человек имеет рост:\n",
        "а). больше 182 см\n",
        "б). больше 190 см\n",
        "в). от 166 см до 190 см\n",
        "г). от 166 см до 182 см\n",
        "д). от 158 см до 190 см\n",
        "е). не выше 150 см или не ниже 190 см\n",
        "ё). не выше 150 см или не ниже 198 см\n",
        "ж). ниже 166 см.**\n",
        "\n",
        "\n",
        "Ответ:\n",
        "\n",
        "Разобьем на участки и воспользуемся функцией 3 сигм\n",
        "\n",
        "а) 13,6 + 2,15 + 0,15 = 15,9\n",
        "\n",
        "б) 2,15 + 0,15 = 2,3\n",
        "\n",
        "в) 34,1 + 34,1 + 13,6 = 81,8\n",
        "\n",
        "г) 34,1 + 34,1 = 68,2\n",
        "\n",
        "д) 13,6 + 34,1 + 34,1 + 13,6 = 95,4\n",
        "\n",
        "е) 0,15 + 2,15 + 0,15 = 2,45\n",
        "\n",
        "ё) 0,15 + 0,15 = 0,3\n",
        "\n",
        "ж) 0,15 + 2,15 + 13,6 = 15,9"
      ]
    },
    {
      "cell_type": "markdown",
      "metadata": {
        "id": "3oR69x0OAG5v"
      },
      "source": [
        "**На сколько сигм (средних квадратичных отклонений) отклоняется рост человека, равный 190 см, от математического ожидания роста в популяции, в которой M(X) = 178 см и D(X) = 25 кв.см?**\n",
        "\n",
        "Ответ:\n",
        "\n",
        "так как дисперсия равна 25 то средне квадратичное отклонение равно 5, прибавляем к 178 число 5 пока не будет больше или равно 190, то есть: 183, 188 и 193.\n",
        "190 это 0,4 между 188 и 193, следовательно, так как у нас полностью прошли числа 183 и 188 это уже 2 сигмы и прибавляем еще 0,4 сигмы\n",
        "\n",
        "Получается 2,4 сигмы\n"
      ]
    }
  ]
}